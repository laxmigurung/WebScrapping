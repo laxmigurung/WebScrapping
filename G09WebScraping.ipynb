{
 "cells": [
  {
   "cell_type": "code",
   "execution_count": 1,
   "id": "d554dc65",
   "metadata": {},
   "outputs": [],
   "source": [
    "# Programmar: Neja Gurung, Laxmi Gurung\n",
    "# Course: CIS 3120-ETRA (34795)\n",
    "# Project: WebScarping a website, \n",
    "#          converting a list of strings to integers and finding an average\n",
    "# Date: 09/29/2021"
   ]
  },
  {
   "cell_type": "code",
   "execution_count": 2,
   "id": "5886e1b1",
   "metadata": {},
   "outputs": [
    {
     "name": "stdout",
     "output_type": "stream",
     "text": [
      "The Content of Table.\n",
      "[<h4 class=\"pageTitle\">(State Areas)</h4>]\n"
     ]
    }
   ],
   "source": [
    "#To request in to the website, importing requests library\n",
    "#To get the html(raw) data from the website, importing beautiful soup library\n",
    "\n",
    "import requests\n",
    "from bs4 import BeautifulSoup\n",
    "\n",
    "url = \"http://www.theus50.com/fastfacts/area.php\"\n",
    "r = requests.get(url) # r is the response object that retrieves context.\n",
    "src = r.content\n",
    "soup = BeautifulSoup(src, 'html.parser')\n",
    "\n",
    "# 1. The heading of the page that describes the content of the table.\n",
    "pageTitle = soup.find_all('h4')\n",
    "print(\"The Content of Table.\")\n",
    "print(pageTitle)\n",
    "\n",
    "#There is only one table tag in the html document of the given website, therefore we can either use \n",
    "#find or find_all\n",
    "allTable = soup.find('table')\n",
    "#print(allTable)"
   ]
  },
  {
   "cell_type": "code",
   "execution_count": 3,
   "id": "5a86a5ab",
   "metadata": {},
   "outputs": [
    {
     "name": "stdout",
     "output_type": "stream",
     "text": [
      "['Rank', 'State Name', 'Area (Sq Miles)']\n"
     ]
    }
   ],
   "source": [
    "# Create an empty list to store the field name of the table\n",
    "stateList = []\n",
    "headers = []\n",
    "\n",
    "# To iterate over the first column which is the field names of the table\n",
    "# To find the frist table row, we are using find method\n",
    "# There is also only one <th> tag.\n",
    "# Using find_all method to extract the table headings.\n",
    "\n",
    "for header in allTable.find(\"tr\").find_all(\"th\"):\n",
    "    headers.append(header.text)\n",
    "    \n",
    "print(headers)"
   ]
  },
  {
   "cell_type": "code",
   "execution_count": 4,
   "id": "cc5b2189",
   "metadata": {},
   "outputs": [
    {
     "name": "stdout",
     "output_type": "stream",
     "text": [
      "{'Rank': '1', 'State Name': 'Alaska', 'Area (Sq Miles)': '571,951'}\n",
      "{'Rank': '2', 'State Name': 'Texas', 'Area (Sq Miles)': '261,797'}\n",
      "{'Rank': '3', 'State Name': 'California', 'Area (Sq Miles)': '155,959'}\n",
      "{'Rank': '4', 'State Name': 'Montana', 'Area (Sq Miles)': '145,552'}\n",
      "{'Rank': '5', 'State Name': 'New Mexico', 'Area (Sq Miles)': '121,356'}\n",
      "{'Rank': '6', 'State Name': 'Arizona', 'Area (Sq Miles)': '113,635'}\n",
      "{'Rank': '7', 'State Name': 'Nevada', 'Area (Sq Miles)': '109,826'}\n",
      "{'Rank': '8', 'State Name': 'Colorado', 'Area (Sq Miles)': '103,718'}\n",
      "{'Rank': '9', 'State Name': 'Wyoming', 'Area (Sq Miles)': '97,100'}\n",
      "{'Rank': '10', 'State Name': 'Oregon', 'Area (Sq Miles)': '95,997'}\n",
      "{'Rank': '11', 'State Name': 'Idaho', 'Area (Sq Miles)': '82,747'}\n",
      "{'Rank': '12', 'State Name': 'Utah', 'Area (Sq Miles)': '82,144'}\n",
      "{'Rank': '13', 'State Name': 'Kansas', 'Area (Sq Miles)': '81,815'}\n",
      "{'Rank': '14', 'State Name': 'Minnesota', 'Area (Sq Miles)': '79,610'}\n",
      "{'Rank': '15', 'State Name': 'Nebraska', 'Area (Sq Miles)': '76,872'}\n",
      "{'Rank': '16', 'State Name': 'South Dakota', 'Area (Sq Miles)': '75,885'}\n",
      "{'Rank': '17', 'State Name': 'North Dakota', 'Area (Sq Miles)': '68,976'}\n",
      "{'Rank': '18', 'State Name': 'Missouri', 'Area (Sq Miles)': '68,886'}\n",
      "{'Rank': '19', 'State Name': 'Oklahoma', 'Area (Sq Miles)': '68,667'}\n",
      "{'Rank': '20', 'State Name': 'Washington', 'Area (Sq Miles)': '66,544'}\n",
      "{'Rank': '21', 'State Name': 'Georgia', 'Area (Sq Miles)': '57,906'}\n",
      "{'Rank': '22', 'State Name': 'Michigan', 'Area (Sq Miles)': '56,804'}\n",
      "{'Rank': '23', 'State Name': 'Iowa', 'Area (Sq Miles)': '55,869'}\n",
      "{'Rank': '24', 'State Name': 'Illinois', 'Area (Sq Miles)': '55,584'}\n",
      "{'Rank': '25', 'State Name': 'Wisconsin', 'Area (Sq Miles)': '54,310'}\n",
      "{'Rank': '26', 'State Name': 'Florida', 'Area (Sq Miles)': '53,927'}\n",
      "{'Rank': '27', 'State Name': 'Arkansas', 'Area (Sq Miles)': '52,068'}\n",
      "{'Rank': '28', 'State Name': 'Alabama', 'Area (Sq Miles)': '50,744'}\n",
      "{'Rank': '29', 'State Name': 'North Carolina', 'Area (Sq Miles)': '48,711'}\n",
      "{'Rank': '30', 'State Name': 'New York', 'Area (Sq Miles)': '47,214'}\n",
      "{'Rank': '31', 'State Name': 'Mississippi', 'Area (Sq Miles)': '46,907'}\n",
      "{'Rank': '32', 'State Name': 'Pennsylvania', 'Area (Sq Miles)': '44,817'}\n",
      "{'Rank': '33', 'State Name': 'Louisiana', 'Area (Sq Miles)': '43,562'}\n",
      "{'Rank': '34', 'State Name': 'Tennessee', 'Area (Sq Miles)': '41,217'}\n",
      "{'Rank': '35', 'State Name': 'Ohio', 'Area (Sq Miles)': '40,948'}\n",
      "{'Rank': '36', 'State Name': 'Kentucky', 'Area (Sq Miles)': '39,728'}\n",
      "{'Rank': '37', 'State Name': 'Virginia', 'Area (Sq Miles)': '39,594'}\n",
      "{'Rank': '38', 'State Name': 'Indiana', 'Area (Sq Miles)': '35,867'}\n",
      "{'Rank': '39', 'State Name': 'Maine', 'Area (Sq Miles)': '30,862'}\n",
      "{'Rank': '40', 'State Name': 'South Carolina', 'Area (Sq Miles)': '30,109'}\n",
      "{'Rank': '41', 'State Name': 'West Virginia', 'Area (Sq Miles)': '24,078'}\n",
      "{'Rank': '42', 'State Name': 'Maryland', 'Area (Sq Miles)': '9,774'}\n",
      "{'Rank': '43', 'State Name': 'Vermont', 'Area (Sq Miles)': '9,250'}\n",
      "{'Rank': '44', 'State Name': 'New Hampshire', 'Area (Sq Miles)': '8,968'}\n",
      "{'Rank': '45', 'State Name': 'Massachusetts', 'Area (Sq Miles)': '7,840'}\n",
      "{'Rank': '46', 'State Name': 'New Jersey', 'Area (Sq Miles)': '7,417'}\n",
      "{'Rank': '47', 'State Name': 'Hawaii', 'Area (Sq Miles)': '6,423'}\n",
      "{'Rank': '48', 'State Name': 'Connecticut', 'Area (Sq Miles)': '4,845'}\n",
      "{'Rank': '49', 'State Name': 'Delaware', 'Area (Sq Miles)': '1,954'}\n",
      "{'Rank': '50', 'State Name': 'Rhode Island', 'Area (Sq Miles)': '1,045'}\n"
     ]
    }
   ],
   "source": [
    "# After finding the field names which was at position 0 in allTable\n",
    "# Assigning all the table rows in a variable rows\n",
    "rows = allTable.find_all(\"tr\")[1:]\n",
    "#print(rows)\n",
    "\n",
    "#To iteratte over rows and extracting the table data storing in\n",
    "#an empty list values[]\n",
    "for row in rows:\n",
    "    values = []\n",
    "    \n",
    "    for col in row.find_all('td'):\n",
    "        values.append(col.text)# .text returns the data in string format\n",
    "    \n",
    "    if values:\n",
    "        stateDict = {} #Creating an empty dictionary\n",
    "        \n",
    "        # To store all the data from values list in a list of dictionary\n",
    "        for i in range(len(values)):\n",
    "            #print(headers[i])\n",
    "            #print(values[i])\n",
    "            stateDict[headers[i]]= values[i]\n",
    "        stateList.append(stateDict)\n",
    "    print(stateDict)"
   ]
  },
  {
   "cell_type": "code",
   "execution_count": 5,
   "id": "c7bc57e8",
   "metadata": {},
   "outputs": [
    {
     "name": "stdout",
     "output_type": "stream",
     "text": [
      "50\n"
     ]
    }
   ],
   "source": [
    "print(len(stateList))"
   ]
  },
  {
   "cell_type": "code",
   "execution_count": 6,
   "id": "02384297",
   "metadata": {},
   "outputs": [
    {
     "name": "stdout",
     "output_type": "stream",
     "text": [
      "571,951\n",
      "261,797\n",
      "155,959\n",
      "145,552\n",
      "121,356\n",
      "113,635\n",
      "109,826\n",
      "103,718\n",
      "97,100\n",
      "95,997\n",
      "82,747\n",
      "82,144\n",
      "81,815\n",
      "79,610\n",
      "76,872\n",
      "75,885\n",
      "68,976\n",
      "68,886\n",
      "68,667\n",
      "66,544\n",
      "57,906\n",
      "56,804\n",
      "55,869\n",
      "55,584\n",
      "54,310\n",
      "53,927\n",
      "52,068\n",
      "50,744\n",
      "48,711\n",
      "47,214\n",
      "46,907\n",
      "44,817\n",
      "43,562\n",
      "41,217\n",
      "40,948\n",
      "39,728\n",
      "39,594\n",
      "35,867\n",
      "30,862\n",
      "30,109\n",
      "24,078\n",
      "9,774\n",
      "9,250\n",
      "8,968\n",
      "7,840\n",
      "7,417\n",
      "6,423\n",
      "4,845\n",
      "1,954\n",
      "1,045\n"
     ]
    }
   ],
   "source": [
    "# Create an empty list to store the Area (Sq miles) column's data.\n",
    "\n",
    "stateAreas = []\n",
    "\n",
    "# Iterating over the list of dictionary\n",
    "for n in stateList:\n",
    "    areaList =n['Area (Sq Miles)']\n",
    "    print(areaList)\n",
    "    stateAreas.append(areaList)\n",
    "    \n",
    "       "
   ]
  },
  {
   "cell_type": "code",
   "execution_count": 7,
   "id": "fcbc1675",
   "metadata": {},
   "outputs": [
    {
     "name": "stdout",
     "output_type": "stream",
     "text": [
      "['571951', '261797', '155959', '145552', '121356', '113635', '109826', '103718', '97100', '95997', '82747', '82144', '81815', '79610', '76872', '75885', '68976', '68886', '68667', '66544', '57906', '56804', '55869', '55584', '54310', '53927', '52068', '50744', '48711', '47214', '46907', '44817', '43562', '41217', '40948', '39728', '39594', '35867', '30862', '30109', '24078', '9774', '9250', '8968', '7840', '7417', '6423', '4845', '1954', '1045']\n"
     ]
    }
   ],
   "source": [
    "# Again creating an empty list to store the area of the states after formating\n",
    "# data.\n",
    "# We removed the ',' from each data, using the for loop, if statement\n",
    "#and replace method.\n",
    "\n",
    "newAreaList =[]\n",
    "for x in stateAreas:\n",
    "    if ',' in x:\n",
    "        formatArea=  x.replace(',','')\n",
    "        newAreaList.append(formatArea)\n",
    "print(newAreaList)\n"
   ]
  },
  {
   "cell_type": "code",
   "execution_count": 8,
   "id": "75f3596e",
   "metadata": {},
   "outputs": [
    {
     "name": "stdout",
     "output_type": "stream",
     "text": [
      "<class 'str'>\n",
      "[571951, 261797, 155959, 145552, 121356, 113635, 109826, 103718, 97100, 95997, 82747, 82144, 81815, 79610, 76872, 75885, 68976, 68886, 68667, 66544, 57906, 56804, 55869, 55584, 54310, 53927, 52068, 50744, 48711, 47214, 46907, 44817, 43562, 41217, 40948, 39728, 39594, 35867, 30862, 30109, 24078, 9774, 9250, 8968, 7840, 7417, 6423, 4845, 1954, 1045]\n"
     ]
    }
   ],
   "source": [
    "# Checking the data type of the data \n",
    "print(type(stateAreas[0])) \n",
    "\n",
    "# Created an empty list to store the list of integers after converting \n",
    "# the string data type using int()\n",
    "FinalAreaList = []\n",
    "for area in newAreaList:\n",
    "    FinalAreaList.append(int(area))\n",
    "\n",
    "print(FinalAreaList)\n",
    "\n",
    "# Converting the list of strings into integers using map()\n",
    "#FinalAreaList = list(map(int,newAreaList))\n",
    "#print(FinalAreaList)"
   ]
  },
  {
   "cell_type": "code",
   "execution_count": 9,
   "id": "56bae298",
   "metadata": {},
   "outputs": [
    {
     "name": "stdout",
     "output_type": "stream",
     "text": [
      "The average of all the areas is 70747.58 square miles.\n"
     ]
    }
   ],
   "source": [
    "# Assign a value 0 to the variable sum\n",
    "sum = 0\n",
    "\n",
    "# Using for to iterate over the list of areas and adding it to the variable sum\n",
    "for num in FinalAreaList:\n",
    "    sum += num # everytime the loops runs, the value will be added and stored in sum.\n",
    "\n",
    "# Calculating the average of area of all the states.\n",
    "average = sum/len(FinalAreaList)\n",
    "#print(len(FinalAreaList))\n",
    "# Displaying the result.\n",
    "print(f\"The average of all the areas is {average} square miles.\")"
   ]
  },
  {
   "cell_type": "code",
   "execution_count": null,
   "id": "16dc0741",
   "metadata": {},
   "outputs": [],
   "source": []
  }
 ],
 "metadata": {
  "kernelspec": {
   "display_name": "Python 3",
   "language": "python",
   "name": "python3"
  },
  "language_info": {
   "codemirror_mode": {
    "name": "ipython",
    "version": 3
   },
   "file_extension": ".py",
   "mimetype": "text/x-python",
   "name": "python",
   "nbconvert_exporter": "python",
   "pygments_lexer": "ipython3",
   "version": "3.8.8"
  }
 },
 "nbformat": 4,
 "nbformat_minor": 5
}
